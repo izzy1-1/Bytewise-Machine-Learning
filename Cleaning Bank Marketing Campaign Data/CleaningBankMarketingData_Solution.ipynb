{
 "cells": [
  {
   "cell_type": "code",
   "execution_count": 24,
   "metadata": {},
   "outputs": [
    {
     "name": "stderr",
     "output_type": "stream",
     "text": [
      "C:\\Users\\PMLS\\AppData\\Local\\Temp\\ipykernel_7268\\2042683927.py:27: FutureWarning: Setting an item of incompatible dtype is deprecated and will raise in a future error of pandas. Value '['13' '19' '23' ... '24' '17' '23']' has dtype incompatible with int64, please explicitly cast to a compatible dtype first.\n",
      "  campaign.loc[:, \"day\"] = campaign[\"day\"].astype(int).astype(str)\n"
     ]
    }
   ],
   "source": [
    "import pandas as pd\n",
    "import numpy as np\n",
    "\n",
    "marketing = pd.read_csv(\"bank_marketing.csv\")\n",
    "\n",
    "client = marketing.loc[:, [\"client_id\", \"age\", \"job\", \"marital\", \n",
    "                           \"education\", \"credit_default\", \"mortgage\"]]\n",
    "campaign = marketing.loc[:, [\"client_id\", \"number_contacts\", \"month\", \"day\", \n",
    "                              \"contact_duration\", \"previous_campaign_contacts\", \n",
    "                              \"previous_outcome\", \"campaign_outcome\"]]\n",
    "economics = marketing.loc[:, [\"client_id\", \"cons_price_idx\", \"euribor_three_months\"]]\n",
    "\n",
    "client.loc[:, \"education\"] = client[\"education\"].str.replace(\".\", \"_\")\n",
    "client.loc[:, \"education\"] = client[\"education\"].replace(\"unknown\", np.NaN)\n",
    "\n",
    "for col in [\"credit_default\", \"mortgage\"]:\n",
    "    client.loc[:, col] = client[col].map({\"yes\": 1, \"no\": 0, \"unknown\": 0})\n",
    "    client.loc[:, col] = client[col].astype(bool)\n",
    "\n",
    "campaign.loc[:, \"campaign_outcome\"] = campaign[\"campaign_outcome\"].map({\"yes\": 1, \"no\": 0})\n",
    "campaign.loc[:, \"previous_outcome\"] = campaign[\"previous_outcome\"].map({\"success\": 1, \"failure\": 0, \"nonexistent\": 0})\n",
    "\n",
    "campaign.loc[:, \"year\"] = \"2022\"\n",
    "\n",
    "campaign.loc[:, \"day\"] = pd.to_numeric(campaign[\"day\"], errors='coerce')\n",
    "campaign.dropna(subset=[\"day\"], inplace=True)\n",
    "campaign.loc[:, \"day\"] = campaign[\"day\"].astype(int).astype(str)\n",
    "campaign.loc[:, \"last_contact_date\"] = campaign[\"year\"] + \"-\" + campaign[\"month\"] + \"-\" + campaign[\"day\"]\n",
    "campaign.loc[:, \"last_contact_date\"] = pd.to_datetime(campaign[\"last_contact_date\"], format=\"%Y-%b-%d\")\n",
    "\n",
    "for col in [\"campaign_outcome\", \"previous_outcome\"]:\n",
    "    campaign.loc[:, col] = campaign[col].astype(bool)\n",
    "\n",
    "campaign.drop(columns=[\"month\", \"day\", \"year\"], inplace=True)\n",
    "\n",
    "client.to_csv(\"client.csv\", index=False)\n",
    "campaign.to_csv(\"campaign.csv\", index=False)\n",
    "economics.to_csv(\"economics.csv\", index=False)\n"
   ]
  }
 ],
 "metadata": {
  "kernelspec": {
   "display_name": "Python 3",
   "language": "python",
   "name": "python3"
  },
  "language_info": {
   "codemirror_mode": {
    "name": "ipython",
    "version": 3
   },
   "file_extension": ".py",
   "mimetype": "text/x-python",
   "name": "python",
   "nbconvert_exporter": "python",
   "pygments_lexer": "ipython3",
   "version": "3.12.2"
  }
 },
 "nbformat": 4,
 "nbformat_minor": 2
}
