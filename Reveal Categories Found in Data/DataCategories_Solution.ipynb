{
 "cells": [
  {
   "cell_type": "code",
   "execution_count": 3,
   "metadata": {},
   "outputs": [
    {
     "name": "stdout",
     "output_type": "stream",
     "text": [
      "                                             content  score\n",
      "0                      I cannot open the app anymore      1\n",
      "1  I have been begging for a refund from this app...      1\n",
      "2  Very costly for the premium version (approx In...      1\n",
      "3  Used to keep me organized, but all the 2020 UP...      1\n",
      "4                                Dan Birthday Oct 28      1\n",
      "   category           term   frequency\n",
      "0         0  notifications   37.691067\n",
      "1         1            app   68.970459\n",
      "2         2        premium   48.859837\n",
      "3         3            app  118.515618\n",
      "4         4        version   67.390991\n"
     ]
    }
   ],
   "source": [
    "import pandas as pd\n",
    "import numpy as np\n",
    "from sklearn.feature_extraction.text import TfidfVectorizer\n",
    "from sklearn.cluster import KMeans\n",
    "import nltk\n",
    "from nltk.corpus import stopwords\n",
    "from nltk.tokenize import word_tokenize\n",
    "import warnings\n",
    "\n",
    "# Suppress warnings\n",
    "warnings.filterwarnings(\"ignore\")\n",
    "\n",
    "# Pre-download NLTK resources if they are not already available\n",
    "try:\n",
    "    nltk.data.find('tokenizers/punkt')\n",
    "    nltk.data.find('corpora/stopwords')\n",
    "except LookupError:\n",
    "    nltk.download('punkt')\n",
    "    nltk.download('stopwords')\n",
    "\n",
    "# Load data\n",
    "data = pd.read_csv(\"reviews.csv\")\n",
    "print(data.head())  # Check if data is loaded correctly\n",
    "\n",
    "# Filter and clean text\n",
    "negative_reviews = data.loc[data['score'].isin([1, 2]), 'content']\n",
    "\n",
    "def clean_text(text):\n",
    "    tokens = word_tokenize(text)\n",
    "    stop_words = set(stopwords.words('english'))\n",
    "    filtered_tokens = filter(lambda word: word.isalpha() and word.lower() not in stop_words, tokens)\n",
    "    return ' '.join(filtered_tokens)\n",
    "\n",
    "texts = negative_reviews.map(clean_text)\n",
    "df = pd.DataFrame({'review': texts})\n",
    "\n",
    "# Vectorize and cluster\n",
    "vectorizer = TfidfVectorizer()\n",
    "matrix = vectorizer.fit_transform(df['review'])\n",
    "\n",
    "model = KMeans(n_clusters=5, random_state=500)\n",
    "labels = model.fit_predict(matrix)\n",
    "df['category'] = labels\n",
    "\n",
    "# Extract top terms\n",
    "terms = vectorizer.get_feature_names_out()\n",
    "top_terms = []\n",
    "\n",
    "for i in range(model.n_clusters):\n",
    "    indices = np.where(df['category'] == i)[0]\n",
    "    sum_tfidf = matrix[indices].sum(axis=0)\n",
    "    term_frequencies = np.array(sum_tfidf).flatten()\n",
    "    top_index = term_frequencies.argmax()\n",
    "    top_terms.append({\n",
    "        'category': i,\n",
    "        'term': terms[top_index],\n",
    "        'frequency': term_frequencies[top_index]\n",
    "    })\n",
    "\n",
    "result_df = pd.DataFrame(top_terms)\n",
    "print(result_df)\n"
   ]
  }
 ],
 "metadata": {
  "kernelspec": {
   "display_name": "Python 3",
   "language": "python",
   "name": "python3"
  },
  "language_info": {
   "codemirror_mode": {
    "name": "ipython",
    "version": 3
   },
   "file_extension": ".py",
   "mimetype": "text/x-python",
   "name": "python",
   "nbconvert_exporter": "python",
   "pygments_lexer": "ipython3",
   "version": "3.12.2"
  }
 },
 "nbformat": 4,
 "nbformat_minor": 2
}
